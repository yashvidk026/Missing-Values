{
  "nbformat": 4,
  "nbformat_minor": 0,
  "metadata": {
    "colab": {
      "private_outputs": true,
      "provenance": [],
      "authorship_tag": "ABX9TyNKO0Isizj/zf0XYSjagBN9",
      "include_colab_link": true
    },
    "kernelspec": {
      "name": "python3",
      "display_name": "Python 3"
    },
    "language_info": {
      "name": "python"
    }
  },
  "cells": [
    {
      "cell_type": "markdown",
      "metadata": {
        "id": "view-in-github",
        "colab_type": "text"
      },
      "source": [
        "<a href=\"https://colab.research.google.com/github/yashvidk026/Missing-Values/blob/main/MISSING_DATA_SET_.ipynb\" target=\"_parent\"><img src=\"https://colab.research.google.com/assets/colab-badge.svg\" alt=\"Open In Colab\"/></a>"
      ]
    },
    {
      "cell_type": "code",
      "execution_count": null,
      "metadata": {
        "id": "dbR8zq42KhYK"
      },
      "outputs": [],
      "source": [
        "#finding missing values in DataFrame\n",
        "#importing pandas as numpy\n",
        "import pandas as pd\n",
        "import numpy as np"
      ]
    },
    {
      "cell_type": "code",
      "source": [
        "#sample DataFrame with missing values\n",
        "d={'first score':[100,90,np.nan,95],\n",
        "   'second score':[30,45,56,np.nan],\n",
        "   'third score':[np.nan,40,80,98]}\n",
        "df=pd.DataFrame(d)\n",
        "df\n"
      ],
      "metadata": {
        "id": "gq3C08rYLf9h"
      },
      "execution_count": null,
      "outputs": []
    },
    {
      "cell_type": "code",
      "source": [
        "#cheking for missing values in isnull\n",
        "mn=df.isnull()\n"
      ],
      "metadata": {
        "id": "_e4nL7f_Mb3i"
      },
      "execution_count": null,
      "outputs": []
    },
    {
      "cell_type": "code",
      "source": [
        "print(mn)"
      ],
      "metadata": {
        "id": "WKc20qJ8Mqpy"
      },
      "execution_count": null,
      "outputs": []
    },
    {
      "cell_type": "code",
      "source": [
        "mn=df.isnull().sum()\n",
        "print(mn)"
      ],
      "metadata": {
        "id": "qD6T_zHIMs-M"
      },
      "execution_count": null,
      "outputs": []
    },
    {
      "cell_type": "code",
      "source": [
        "#filling missing values with 0\n",
        "df1=df.fillna(0)\n"
      ],
      "metadata": {
        "id": "TX0S8oKwOB29"
      },
      "execution_count": null,
      "outputs": []
    },
    {
      "cell_type": "code",
      "source": [
        "df1"
      ],
      "metadata": {
        "id": "Ytj7NqCaOJCe"
      },
      "execution_count": null,
      "outputs": []
    },
    {
      "cell_type": "code",
      "source": [
        "#filling missing values with the prew/next value using fillna\n",
        "#use the pad method to fill missing values with the previous value or bfill to fill with the next val\n",
        "df.fillna(method='pad')#forward fill"
      ],
      "metadata": {
        "id": "K0zcJ62TOZb2"
      },
      "execution_count": null,
      "outputs": []
    },
    {
      "cell_type": "code",
      "source": [
        "df.fillna(method='bfill')#backward fill"
      ],
      "metadata": {
        "id": "POvLnAyOQCo9"
      },
      "execution_count": null,
      "outputs": []
    },
    {
      "cell_type": "code",
      "source": [
        "#interpolat()function fills missing values using interpolation techniques,such as the linear method\n",
        "import pandas as pd\n",
        "\n",
        "#creating the dataframe\n",
        "df=pd.DataFrame({\"A\":[12,4,5,None,1],\n",
        "                 \"B\":[None,2,54,3,None],\n",
        "                 \"C\":[20,16,11,3,8],\n",
        "                 \"D\":[14,3,None,2,6]})\n",
        "#print the dataframe\n",
        "print(df)\n"
      ],
      "metadata": {
        "id": "Jk1mq_a2RBc1"
      },
      "execution_count": null,
      "outputs": []
    },
    {
      "cell_type": "code",
      "source": [
        "df.fillna(0)"
      ],
      "metadata": {
        "id": "EqOXlerbR0m7"
      },
      "execution_count": null,
      "outputs": []
    },
    {
      "cell_type": "code",
      "source": [
        "df.fillna(method='pad')#forward fill"
      ],
      "metadata": {
        "id": "CRmmFINySsTJ"
      },
      "execution_count": null,
      "outputs": []
    },
    {
      "cell_type": "code",
      "source": [
        "df.fillna(method='bfill')#backward fill"
      ],
      "metadata": {
        "id": "TqJ7lpcmTqak"
      },
      "execution_count": null,
      "outputs": []
    },
    {
      "cell_type": "code",
      "source": [
        "df.fillna(df.mean())"
      ],
      "metadata": {
        "id": "dzaal4EPVsFl"
      },
      "execution_count": null,
      "outputs": []
    },
    {
      "cell_type": "code",
      "source": [
        "#to interplate the missing values\n",
        "df.interpolate(method='linear',limit_direction='forward')"
      ],
      "metadata": {
        "id": "ml4nJA3HV5sB"
      },
      "execution_count": null,
      "outputs": []
    },
    {
      "cell_type": "code",
      "source": [
        "#Dropping row with least one Null value\n",
        "import pandas as pd\n",
        "import numpy as np\n",
        "dict={'First Score':[100,90,np.nan,95],\n",
        "      'Second Score':[30,np.nan,45,56],\n",
        "      'Third Score':[52,40,80,98],\n",
        "      'Fourth Score':[np.nan,np.nan,np.nan,65]}\n",
        "df=pd.DataFrame(dict)\n",
        "#dict rows with at least one missing value\n",
        "df.dropna()"
      ],
      "metadata": {
        "id": "2c6eHt9oWNc-"
      },
      "execution_count": null,
      "outputs": []
    },
    {
      "cell_type": "code",
      "source": [
        "#To remove columns that contain at least one missing value,use dropna(axis=1).\n",
        "dict={'Fisrt Score':[100,np.nan,np.nan,95],\n",
        "      'Second Score':[30,np.nan,45,56],\n",
        "      'Third Score':[52,np.nan,80,98],\n",
        "      'Fourth Score':[60,67,68,65]}\n",
        "df=pd.DataFrame(dict)\n",
        "df.dropna(axis=1)\n"
      ],
      "metadata": {
        "id": "K9fLiAw0ZbWi"
      },
      "execution_count": null,
      "outputs": []
    },
    {
      "cell_type": "code",
      "source": [],
      "metadata": {
        "id": "rzM227E1aq_a"
      },
      "execution_count": null,
      "outputs": []
    }
  ]
}